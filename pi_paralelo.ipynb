{
  "nbformat": 4,
  "nbformat_minor": 0,
  "metadata": {
    "colab": {
      "provenance": [],
      "collapsed_sections": []
    },
    "kernelspec": {
      "name": "python3",
      "display_name": "Python 3"
    },
    "language_info": {
      "name": "python"
    }
  },
  "cells": [
    {
      "cell_type": "markdown",
      "source": [
        "# Paralelizando Pi Sequencial"
      ],
      "metadata": {
        "id": "TYVQwYyxBWhJ"
      }
    },
    {
      "cell_type": "code",
      "source": [
        "import time\n",
        "def pi_naive(start, end, step):\n",
        "  print (\"Start: \", str(start))\n",
        "  print (\"End: \", str(end))\n",
        "  sum = 0.0\n",
        "  for i in range(start, end):\n",
        "    x = (i+0.5) * step\n",
        "    sum = sum + 4.0/(1.0+x*x)\n",
        "  return sum\n",
        "if __name__ == \"__main__\":\n",
        "  num_steps = 10000000 #10.000.000 (10+e7)\n",
        "  sums = 0.0\n",
        "  step = 1.0/num_steps\n",
        "  tic = time.time() # Tempo Inicial\n",
        "  sums = pi_naive(0, num_steps, step)\n",
        "  toc = time.time() # Tempo Final\n",
        "  pi = step * sums\n",
        "  print ('Valor de Pi é: {}'.format(pi))\n",
        "  print (\"Tempo Pi: %.8f s\" %(toc-tic))"
      ],
      "metadata": {
        "colab": {
          "base_uri": "https://localhost:8080/"
        },
        "id": "vcJiavXbV-Bj",
        "outputId": "57229ca2-d011-4d79-ba7c-00aca857d249"
      },
      "execution_count": null,
      "outputs": [
        {
          "output_type": "stream",
          "name": "stdout",
          "text": [
            "Start:  0\n",
            "End:  10000000\n",
            "Valor de Pi é: 3.141592653589731\n",
            "Tempo Pi: 1.73152232 s\n"
          ]
        }
      ]
    },
    {
      "cell_type": "markdown",
      "source": [
        "### Usando Process"
      ],
      "metadata": {
        "id": "liB_8n1QBXuL"
      }
    },
    {
      "cell_type": "code",
      "source": [
        "import time\n",
        "from multiprocessing import Process\n",
        "\n",
        "def pi_naive(start, end, step):\n",
        "    print(\"Start: \", str(start))\n",
        "    print(\"End: \", str(end))\n",
        "    sum = 0.0\n",
        "    for i in range(start, end):\n",
        "        x =(i+0.5)*step\n",
        "        sum = sum + 4.0/(1.0+x*x)\n",
        "\n",
        "    return print (sum*step)\n",
        "\n",
        "if __name__ == \"__main__\":\n",
        "    procs = 4 # numero de processos\n",
        "    num_steps = 1000000 # numero de steps para o calculo de pi\n",
        "    sums = 0.0 # sums inicial\n",
        "    step = 1.0/num_steps  #numero de step\n",
        "    n = (num_steps + procs-1) // procs #numero de tarefas em relação aos processos \n",
        "    tic = time.time() #Tempo Inicial  \n",
        "    worker = []\n",
        "    for i in range(procs):\n",
        "        sums = Process(target=pi_naive, args=(i*n,(i+1)*n,step,)) #iniciando pi\n",
        "        worker.append(sums)\n",
        "    for i in range(procs):\n",
        "        worker[i].start()\n",
        "    for i in range(procs):\n",
        "        worker[i].join()\n",
        "    toc = time.time() #tempo final\n",
        "    \n",
        "    #print('Valor Pi: %.10f' %pi)\n",
        "    print('Tempo Pi: %.8f s' %(toc-tic))"
      ],
      "metadata": {
        "colab": {
          "base_uri": "https://localhost:8080/"
        },
        "id": "oBJ5CDRWBUnA",
        "outputId": "f891cfed-1534-4f10-c9b4-205059d719e9"
      },
      "execution_count": null,
      "outputs": [
        {
          "output_type": "stream",
          "name": "stdout",
          "text": [
            "Start:  250000\n",
            "End:  500000\n",
            "Start:  0\n",
            "End:  250000\n",
            "Start:  500000\n",
            "End:  750000\n",
            "Start:  750000\n",
            "End:  1000000\n",
            "0.8746757834957989\n",
            "0.9799146525075235\n",
            "0.7194139991699205\n",
            "0.5675882184166324\n",
            "Tempo Pi: 0.26810455 s\n"
          ]
        }
      ]
    },
    {
      "cell_type": "markdown",
      "source": [
        "### Usando PIPE"
      ],
      "metadata": {
        "id": "IAdhjmF4BPAJ"
      }
    },
    {
      "cell_type": "code",
      "execution_count": null,
      "metadata": {
        "colab": {
          "base_uri": "https://localhost:8080/"
        },
        "id": "Sq5bR2juBAR3",
        "outputId": "a116e257-4a16-441b-967a-598e47757ca1"
      },
      "outputs": [
        {
          "output_type": "stream",
          "name": "stdout",
          "text": [
            "Start:  0\n",
            "End:  250000\n",
            "Start:  250000\n",
            "End:  500000\n",
            "Start:  500000\n",
            "End:  750000\n",
            "Start:  750000\n",
            "End:  1000000\n",
            "Valor de Pi é: 3.1415926535898753\n",
            "Tempo Pi: 0.25121140 s\n"
          ]
        }
      ],
      "source": [
        "import time\n",
        "from multiprocessing import Process, Pipe\n",
        "\n",
        "def pi_naive(start, end, step,conn):\n",
        "    print(\"Start: \", str(start))\n",
        "    print(\"End: \", str(end))\n",
        "    sum = 0.0\n",
        "    for i in range(start, end):\n",
        "        x =(i+0.5)*step\n",
        "        sum = sum + 4.0/(1.0+x*x)\n",
        "    conn.send(sum) #envia a soma\n",
        "    conn.close()    \n",
        "  \n",
        "if __name__ == \"__main__\":\n",
        "\n",
        "    procs = 4 # numero de processos\n",
        "    num_steps = 1000000 # numero de steps para o calculo de pi\n",
        "    sums = 0.0 # sums inicial\n",
        "    step = 1.0/num_steps  #numero de step\n",
        "    n = (num_steps + procs-1) // procs #numero de tarefas em relação aos processos \n",
        "    tic = time.time() #Tempo Inicial\n",
        "    pi_resultado = []  \n",
        "    worker = []\n",
        "    for i in range(procs):\n",
        "        a, b = Pipe() #inicia o processo Pipe com\n",
        "        sums = Process(target=pi_naive, args=(i*n,(i+1)*n, step, b)) #iniciando \n",
        "        worker.append(sums)\n",
        "        worker[i].start()\n",
        "        pi_resultado.append(a.recv()/num_steps)#recebe a soma\n",
        "        worker[i].join\n",
        "    toc = time.time() #tempo final\n",
        "       \n",
        "    pi_total = 0.0\n",
        "    for i in range(len(pi_resultado)):\n",
        "        pi_total = pi_total + pi_resultado[i] #une os resultados\n",
        "    print('Valor de Pi é: {}'.format(pi_total))\n",
        "    print('Tempo Pi: %.8f s' %(toc-tic))"
      ]
    },
    {
      "cell_type": "markdown",
      "source": [
        "### Usando PIPE + Lock"
      ],
      "metadata": {
        "id": "34XsbWCcC6x9"
      }
    },
    {
      "cell_type": "code",
      "source": [
        "import time\n",
        "from multiprocessing import Process, Pipe, Lock\n",
        "\n",
        "def pi_naive(start, end, step,conn, lock):\n",
        "    print(\"Start: \", str(start))\n",
        "    print(\"End: \", str(end))\n",
        "    sum = 0.0\n",
        "    for i in range(start, end):\n",
        "        x =(i+0.5)*step\n",
        "        sum = sum + 4.0/(1.0+x*x)\n",
        "    with lock: #para evitar acessos conflitantes na soma final\n",
        "         conn.send(sum) #envia a soma\n",
        "\n",
        "if __name__ == \"__main__\":\n",
        "\n",
        "    procs = 2 # numero de processos\n",
        "    num_steps = 1000000 # numero de steps para o calculo de pi\n",
        "    sums = 0.0 # sums inicial\n",
        "    step = 1.0/num_steps  #numero de step\n",
        "    n = (num_steps + procs-1) // procs #numero de tarefas em relação aos processos \n",
        "    lock = Lock() # definindo Lock\n",
        "    tic = time.time() #Tempo Inicial \n",
        "    pi_resultado = [] \n",
        "    workers = []\n",
        "    for i in range(procs):\n",
        "        a, b = Pipe() #inicia o processo Pipe com\n",
        "        sums = Process(target=pi_naive, args=(i*n,(i+1)*n, step, b, lock,)) #iniciando pi\n",
        "        workers.append(sums)\n",
        "        workers[i].start()\n",
        "        pi_resultado.append(a.recv()/num_steps)#recebe a soma\n",
        "        workers[i].join\n",
        "    toc = time.time() #tempo final\n",
        "       \n",
        "    pi_total = 0.0\n",
        "    for i in range(len(pi_resultado)):\n",
        "        pi_total = pi_total + pi_resultado[i] #une os resultados\n",
        "    print('Valor de Pi é: {}'.format(pi_total))\n",
        "    print('Tempo Pi: %.8f s' %(toc-tic))"
      ],
      "metadata": {
        "colab": {
          "base_uri": "https://localhost:8080/"
        },
        "outputId": "560f5264-b874-4144-9448-e33f8de18e99",
        "id": "ntqT5BcoL_ME"
      },
      "execution_count": null,
      "outputs": [
        {
          "output_type": "stream",
          "name": "stdout",
          "text": [
            "Start:  0\n",
            "End:  500000\n",
            "Start:  500000\n",
            "End:  1000000\n",
            "Valor de Pi é: 3.1415926535898993\n",
            "Tempo Pi: 0.22165036 s\n"
          ]
        }
      ]
    },
    {
      "cell_type": "markdown",
      "source": [
        "### Usando QUEUE"
      ],
      "metadata": {
        "id": "32IPUxFFLtNJ"
      }
    },
    {
      "cell_type": "code",
      "source": [
        "import time\n",
        "from multiprocessing import Process, Queue\n",
        "\n",
        "def pi_naive(start, end, step, result):\n",
        "    print(\"Start: \", str(start))\n",
        "    print(\"End: \", str(end))\n",
        "    sum = 0.0\n",
        "    for i in range(start, end):\n",
        "        x =(i+0.5)*step\n",
        "        sum = sum + 4.0/(1.0+x*x)\n",
        "    result.put(sum/num_steps) # define o resultado com Queue\n",
        "if __name__ == \"__main__\":\n",
        "\n",
        "    procs = 2 # numero de processos\n",
        "    Resultado = Queue()\n",
        "    num_steps = 1000000 # numero de steps para o calculo de pi\n",
        "    sums = 0.0 # sums inicial\n",
        "    step = 1.0/num_steps  #numero de step\n",
        "    n = (num_steps + procs-1) // procs #numero de tarefas em relação aos processos \n",
        "    tic = time.time() #Tempo Inicial \n",
        "    workers = []\n",
        "    for i in range(procs):\n",
        "        worker = Process(target=pi_naive, args=(i*n,(i+1)*n, step, Resultado,)) #iniciando pi\n",
        "        workers.append(worker)\n",
        "    for worker in workers:\n",
        "      worker.start()\n",
        "    \n",
        "    for worker in workers:\n",
        "      worker.join()\n",
        "    \n",
        "    toc = time.time() #tempo final\n",
        "       \n",
        "    pi = 0.0\n",
        "    for i in range(procs):\n",
        "        pi = pi + Resultado.get(i)\n",
        "    print('Valor de Pi é: {}'.format(pi)) #une os resultados\n",
        "    print('Tempo Pi: %.8f s' %(toc-tic))"
      ],
      "metadata": {
        "colab": {
          "base_uri": "https://localhost:8080/"
        },
        "id": "_VzfIUsABF8u",
        "outputId": "4c54cc40-198f-41f6-c885-f82b9f5dac73"
      },
      "execution_count": null,
      "outputs": [
        {
          "output_type": "stream",
          "name": "stdout",
          "text": [
            "Start:  0\n",
            "End:  500000\n",
            "Start:  500000\n",
            "End:  1000000\n",
            "Valor de Pi é: 3.1415926535898993\n",
            "Tempo Pi: 0.21860051 s\n"
          ]
        }
      ]
    },
    {
      "cell_type": "markdown",
      "source": [
        "### Usando Value"
      ],
      "metadata": {
        "id": "0rVBbToZRsIe"
      }
    },
    {
      "cell_type": "code",
      "source": [
        "import time\n",
        "from multiprocessing import Process, Value\n",
        "\n",
        "def pi_naive(val,start, end, step):\n",
        "    print(\"Start: \", str(start))\n",
        "    print(\"End: \", str(end))\n",
        "    sum = 0.0\n",
        "    for i in range(start, end):\n",
        "        x =(i+0.5)*step\n",
        "        sum = sum + 4.0/(1.0+x*x)\n",
        "    with val.get_lock():\n",
        "      val.value += sum\n",
        "\n",
        "if __name__ == \"__main__\":\n",
        "\n",
        "    procs = 2 # numero de processos\n",
        "    v = Value('d',0,lock=True)\n",
        "    num_steps = 1000000 # numero de steps para o calculo de pi\n",
        "    sums = 0.0 # sums inicial\n",
        "    step = 1.0/num_steps  #numero de step\n",
        "    n = (num_steps + procs-1) // procs #numero de tarefas em relação aos processos \n",
        "    tic = time.time() #Tempo Inicial \n",
        "    workers = []\n",
        "    for i in range(procs):\n",
        "        worker = Process(target=pi_naive, args=(v,i*n,(i+1)*n, step,)) #iniciando pi\n",
        "        workers.append(worker)\n",
        "    for worker in workers:\n",
        "      worker.start()\n",
        "    \n",
        "    for worker in workers:\n",
        "      worker.join()\n",
        "    \n",
        "    toc = time.time() #tempo final\n",
        "       \n",
        "    pi = step * v.value\n",
        "    print('Valor de Pi é: {}'.format(pi)) #une os resultados\n",
        "    print('Tempo Pi: %.8f s' %(toc-tic))"
      ],
      "metadata": {
        "colab": {
          "base_uri": "https://localhost:8080/"
        },
        "id": "AcJAvF0DShbo",
        "outputId": "c022b423-1dd1-49b9-af1d-2fb14ec222c7"
      },
      "execution_count": null,
      "outputs": [
        {
          "output_type": "stream",
          "name": "stdout",
          "text": [
            "Start:  0\n",
            "Start:  500000\n",
            "End:  1000000\n",
            "End:  500000\n",
            "Valor de Pi é: 3.1415926535898993\n",
            "Tempo Pi: 0.20554328 s\n"
          ]
        }
      ]
    },
    {
      "cell_type": "markdown",
      "source": [
        "### Usando Pool"
      ],
      "metadata": {
        "id": "HWOkjiBOe7aM"
      }
    },
    {
      "cell_type": "code",
      "source": [
        "import time\n",
        "from multiprocessing import Process, Pool\n",
        "\n",
        "def pi_naive(start, end, step):\n",
        "    print(\"Start: \", str(start))\n",
        "    print(\"End: \", str(end))\n",
        "    sum = 0.0\n",
        "    for i in range(start, end):\n",
        "        x =(i+0.5)*step\n",
        "        sum = sum + 4.0 / (1.0 + x * x)\n",
        "    return sum\n",
        "           \n",
        "  \n",
        "if __name__ == \"__main__\":\n",
        "\n",
        "    procs = 2 # numero de processos\n",
        "    num_steps = 1000000 # numero de steps para o calculo de pi\n",
        "    sums = 0.0 # sums inicial\n",
        "    step = 1.0/num_steps  #numero de step\n",
        "    n = (num_steps + procs-1) // procs #numero de tarefas em relação aos processos \n",
        "    p = Pool(processes=procs)\n",
        "    tic = time.time() #Tempo Inicial\n",
        "\n",
        "    pi_sums = [p.apply(pi_naive, args=(i*n,(i+1)*n,step,)) for i in range(procs)] #iniciando pi\n",
        "\n",
        "    toc = time.time() #tempo final\n",
        "\n",
        "    pi_total = 0.0\n",
        "    for i in range(len(pi_sums)):\n",
        "      pi_total = pi_total+pi_sums[i]\n",
        "    \n",
        "    print('Valor de Pi é: {}'.format(pi_total * step))\n",
        "    print('Tempo Pi: %.8f s' %(toc-tic))"
      ],
      "metadata": {
        "colab": {
          "base_uri": "https://localhost:8080/"
        },
        "id": "9Q03896TShes",
        "outputId": "a75895d8-84e8-4c5c-c08b-f7bf8902e25b"
      },
      "execution_count": null,
      "outputs": [
        {
          "output_type": "stream",
          "name": "stdout",
          "text": [
            "Start:  0\n",
            "End:  500000\n",
            "Start:  500000\n",
            "End:  1000000\n",
            "Valor de Pi é: 3.1415926535898993\n",
            "Tempo Pi: 0.19571304 s\n"
          ]
        }
      ]
    },
    {
      "cell_type": "code",
      "source": [],
      "metadata": {
        "id": "-ByGqX-QShlP"
      },
      "execution_count": null,
      "outputs": []
    },
    {
      "cell_type": "markdown",
      "source": [
        "###Outra forma de se opter o pi paralelo conforme: High Performace Python"
      ],
      "metadata": {
        "id": "iyilVnR9xw0U"
      }
    },
    {
      "cell_type": "code",
      "source": [
        "def estimate_nbr_points_in_quarter_cicle(nbr_estimates):\n",
        "  \"\""
      ],
      "metadata": {
        "id": "YvuhRJlSSX9P"
      },
      "execution_count": null,
      "outputs": []
    },
    {
      "cell_type": "markdown",
      "source": [
        "###Exemplor de POOL\n",
        "Fonte: https://towardsdatascience.com/how-to-use-the-multiprocessing-package-in-python3-a1c808415ec2"
      ],
      "metadata": {
        "id": "J07c502egUw8"
      }
    },
    {
      "cell_type": "code",
      "source": [
        "import time\n",
        "from multiprocessing import Pool\n",
        "\n",
        "\n",
        "def cube(x):\n",
        "    print(f\"start process {x}\")\n",
        "    result = x * x * x\n",
        "    time.sleep(1)\n",
        "    print(f\"end process {x}\")\n",
        "    return result\n",
        "\n",
        "\n",
        "if __name__ == \"__main__\":\n",
        "    ts = time.time()\n",
        "    pool = Pool(processes=4)\n",
        "    print([pool.apply(cube, args=(x,)) for x in range(10)])\n",
        "    pool.close()\n",
        "    pool.join()\n",
        "    print(\"Time in parallel:\", time.time() - ts)"
      ],
      "metadata": {
        "colab": {
          "base_uri": "https://localhost:8080/"
        },
        "id": "Av464f8FgTRF",
        "outputId": "5d2a4b5a-7778-4c7d-d809-5ffc8dacece5"
      },
      "execution_count": null,
      "outputs": [
        {
          "output_type": "stream",
          "name": "stdout",
          "text": [
            "start process 0\n",
            "end process 0\n",
            "start process 1\n",
            "end process 1\n",
            "start process 2\n",
            "end process 2\n",
            "start process 3\n",
            "end process 3\n",
            "start process 4\n",
            "end process 4\n",
            "start process 5\n",
            "end process 5\n",
            "start process 6\n",
            "end process 6\n",
            "start process 7\n",
            "end process 7\n",
            "start process 8\n",
            "end process 8\n",
            "start process 9\n",
            "end process 9\n",
            "[0, 1, 8, 27, 64, 125, 216, 343, 512, 729]\n",
            "Time in parallel: 10.160730361938477\n"
          ]
        }
      ]
    },
    {
      "cell_type": "code",
      "source": [],
      "metadata": {
        "id": "umAhyHEqgyCt"
      },
      "execution_count": null,
      "outputs": []
    }
  ]
}